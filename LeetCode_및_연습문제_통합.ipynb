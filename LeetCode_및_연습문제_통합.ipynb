{
 "cells": [
  {
   "cell_type": "markdown",
   "id": "ad873225",
   "metadata": {},
   "source": [
    "# LeetCode 225. Implement Stack using Queues"
   ]
  },
  {
   "cell_type": "code",
   "execution_count": null,
   "id": "7018e8f5",
   "metadata": {},
   "outputs": [],
   "source": [
    "from collections import deque\n",
    "\n",
    "class MyStack:\n",
    "    def __init__(self):\n",
    "        self.q = deque()\n",
    "\n",
    "    def push(self, x: int) -> None:\n",
    "        self.q.append(x)\n",
    "        for _ in range(len(self.q) - 1):\n",
    "            self.q.append(self.q.popleft())\n",
    "\n",
    "    def pop(self) -> int:\n",
    "        return self.q.popleft()\n",
    "\n",
    "    def top(self) -> int:\n",
    "        return self.q[0]\n",
    "\n",
    "    def empty(self) -> bool:\n",
    "        return not self.q"
   ]
  },
  {
   "cell_type": "markdown",
   "id": "6b6e4a70",
   "metadata": {},
   "source": [
    "# LeetCode 232. Implement Queue using Stacks"
   ]
  },
  {
   "cell_type": "code",
   "execution_count": null,
   "id": "dbaa91d3",
   "metadata": {},
   "outputs": [],
   "source": [
    "class MyQueue:\n",
    "    def __init__(self):\n",
    "        self.in_stack = []\n",
    "        self.out_stack = []\n",
    "\n",
    "    def push(self, x: int) -> None:\n",
    "        self.in_stack.append(x)\n",
    "\n",
    "    def pop(self) -> int:\n",
    "        self.peek()\n",
    "        return self.out_stack.pop()\n",
    "\n",
    "    def peek(self) -> int:\n",
    "        if not self.out_stack:\n",
    "            while self.in_stack:\n",
    "                self.out_stack.append(self.in_stack.pop())\n",
    "        return self.out_stack[-1]\n",
    "\n",
    "    def empty(self) -> bool:\n",
    "        return not self.in_stack and not self.out_stack"
   ]
  },
  {
   "cell_type": "markdown",
   "id": "efe2da36",
   "metadata": {},
   "source": [
    "# 연습문제 03. LinkedQueue 복사"
   ]
  },
  {
   "cell_type": "code",
   "execution_count": null,
   "id": "feb1dcb7",
   "metadata": {},
   "outputs": [],
   "source": [
    "# LinkedQueue 노드 정의\n",
    "class Node:\n",
    "    def __init__(self, item, link=None):\n",
    "        self.item = item\n",
    "        self.link = link\n",
    "\n",
    "# LinkedQueue 클래스 정의\n",
    "class LinkedQueue:\n",
    "    def __init__(self):\n",
    "        self.front = None\n",
    "        self.rear = None\n",
    "\n",
    "    def isEmpty(self):\n",
    "        return self.front is None\n",
    "\n",
    "    def enqueue(self, item):\n",
    "        new_node = Node(item)\n",
    "        if self.isEmpty():\n",
    "            self.front = self.rear = new_node\n",
    "        else:\n",
    "            self.rear.link = new_node\n",
    "            self.rear = new_node\n",
    "\n",
    "    def dequeue(self):\n",
    "        if self.isEmpty(): return None\n",
    "        item = self.front.item\n",
    "        self.front = self.front.link\n",
    "        if self.front is None:\n",
    "            self.rear = None\n",
    "        return item\n",
    "\n",
    "    def printQueue(self):\n",
    "        p = self.front\n",
    "        while p:\n",
    "            print(p.item, end=' ')\n",
    "            p = p.link\n",
    "        print()"
   ]
  },
  {
   "cell_type": "code",
   "execution_count": null,
   "id": "9b8b375f",
   "metadata": {},
   "outputs": [],
   "source": [
    "# LinkedQueue 깊은 복사 함수 정의\n",
    "def copyLinkedQueue(src):\n",
    "    new_q = LinkedQueue()\n",
    "    current = src.front\n",
    "    while current:\n",
    "        new_q.enqueue(current.item)\n",
    "        current = current.link\n",
    "    return new_q"
   ]
  },
  {
   "cell_type": "code",
   "execution_count": null,
   "id": "1e3e6d81",
   "metadata": {},
   "outputs": [],
   "source": [
    "# 테스트\n",
    "a = LinkedQueue()\n",
    "for item in [1, 2, 3, 4]:\n",
    "    a.enqueue(item)\n",
    "\n",
    "print(\"원본 큐 a:\")\n",
    "a.printQueue()\n",
    "\n",
    "b = copyLinkedQueue(a)\n",
    "print(\"복사된 큐 b:\")\n",
    "b.printQueue()\n",
    "\n",
    "# 원본 큐 수정 후 복사본 확인\n",
    "a.enqueue(99)\n",
    "print(\"수정된 큐 a:\")\n",
    "a.printQueue()\n",
    "print(\"복사된 큐 b (변화 없음):\")\n",
    "b.printQueue()"
   ]
  }
 ],
 "metadata": {},
 "nbformat": 4,
 "nbformat_minor": 5
}
