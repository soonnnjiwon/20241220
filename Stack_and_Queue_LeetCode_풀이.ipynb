{
 "cells": [
  {
   "cell_type": "markdown",
   "id": "ad267602",
   "metadata": {},
   "source": [
    "# LeetCode 225. Implement Stack using Queues\n",
    "## 문제 설명\n",
    "Queue 두 개를 사용해서 Stack (LIFO 구조)을 구현하는 문제입니다.\n",
    "\n",
    "### 구현해야 할 메서드:\n",
    "- `push(x)`: 요소 x를 스택 맨 위에 넣습니다.\n",
    "- `pop()`: 스택 맨 위 요소를 제거하고 반환합니다.\n",
    "- `top()`: 스택 맨 위 요소를 반환합니다.\n",
    "- `empty()`: 스택이 비어있는지 확인합니다.\n",
    "\n",
    "## 풀이\n",
    "- 하나의 큐를 이용해 요소를 뒤집는 방식으로 구현할 수 있습니다."
   ]
  },
  {
   "cell_type": "code",
   "execution_count": null,
   "id": "9e3ae718",
   "metadata": {},
   "outputs": [],
   "source": [
    "from collections import deque\n",
    "\n",
    "class MyStack:\n",
    "    def __init__(self):\n",
    "        self.q = deque()\n",
    "\n",
    "    def push(self, x: int) -> None:\n",
    "        self.q.append(x)\n",
    "        for _ in range(len(self.q) - 1):\n",
    "            self.q.append(self.q.popleft())\n",
    "\n",
    "    def pop(self) -> int:\n",
    "        return self.q.popleft()\n",
    "\n",
    "    def top(self) -> int:\n",
    "        return self.q[0]\n",
    "\n",
    "    def empty(self) -> bool:\n",
    "        return not self.q"
   ]
  },
  {
   "cell_type": "markdown",
   "id": "f7cec152",
   "metadata": {},
   "source": [
    "# LeetCode 232. Implement Queue using Stacks\n",
    "## 문제 설명\n",
    "Stack 두 개를 사용해서 Queue (FIFO 구조)를 구현하는 문제입니다.\n",
    "\n",
    "### 구현해야 할 메서드:\n",
    "- `push(x)`: 요소 x를 큐의 뒤에 넣습니다.\n",
    "- `pop()`: 큐의 앞쪽 요소를 제거하고 반환합니다.\n",
    "- `peek()`: 큐의 앞쪽 요소를 반환합니다.\n",
    "- `empty()`: 큐가 비어있는지 확인합니다.\n",
    "\n",
    "## 풀이\n",
    "- 입력 스택 (`in_stack`)과 출력 스택 (`out_stack`) 두 개를 사용합니다."
   ]
  },
  {
   "cell_type": "code",
   "execution_count": null,
   "id": "16bbba22",
   "metadata": {},
   "outputs": [],
   "source": [
    "class MyQueue:\n",
    "    def __init__(self):\n",
    "        self.in_stack = []\n",
    "        self.out_stack = []\n",
    "\n",
    "    def push(self, x: int) -> None:\n",
    "        self.in_stack.append(x)\n",
    "\n",
    "    def pop(self) -> int:\n",
    "        self.peek()\n",
    "        return self.out_stack.pop()\n",
    "\n",
    "    def peek(self) -> int:\n",
    "        if not self.out_stack:\n",
    "            while self.in_stack:\n",
    "                self.out_stack.append(self.in_stack.pop())\n",
    "        return self.out_stack[-1]\n",
    "\n",
    "    def empty(self) -> bool:\n",
    "        return not self.in_stack and not self.out_stack"
   ]
  }
 ],
 "metadata": {},
 "nbformat": 4,
 "nbformat_minor": 5
}
