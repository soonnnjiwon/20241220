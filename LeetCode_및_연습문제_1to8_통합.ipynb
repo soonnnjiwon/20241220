{
 "cells": [
  {
   "cell_type": "markdown",
   "id": "c80b0bd4",
   "metadata": {},
   "source": [
    "# 1. LeetCode 225. Implement Stack using Queues"
   ]
  },
  {
   "cell_type": "code",
   "execution_count": null,
   "id": "6d976af2",
   "metadata": {},
   "outputs": [],
   "source": [
    "from collections import deque\n",
    "\n",
    "class MyStack:\n",
    "    def __init__(self):\n",
    "        self.q = deque()\n",
    "\n",
    "    def push(self, x: int) -> None:\n",
    "        self.q.append(x)\n",
    "        for _ in range(len(self.q) - 1):\n",
    "            self.q.append(self.q.popleft())\n",
    "\n",
    "    def pop(self) -> int:\n",
    "        return self.q.popleft()\n",
    "\n",
    "    def top(self) -> int:\n",
    "        return self.q[0]\n",
    "\n",
    "    def empty(self) -> bool:\n",
    "        return not self.q"
   ]
  },
  {
   "cell_type": "markdown",
   "id": "93b65329",
   "metadata": {},
   "source": [
    "# 2. LeetCode 232. Implement Queue using Stacks"
   ]
  },
  {
   "cell_type": "code",
   "execution_count": null,
   "id": "40616fad",
   "metadata": {},
   "outputs": [],
   "source": [
    "class MyQueue:\n",
    "    def __init__(self):\n",
    "        self.in_stack = []\n",
    "        self.out_stack = []\n",
    "\n",
    "    def push(self, x: int) -> None:\n",
    "        self.in_stack.append(x)\n",
    "\n",
    "    def pop(self) -> int:\n",
    "        self.peek()\n",
    "        return self.out_stack.pop()\n",
    "\n",
    "    def peek(self) -> int:\n",
    "        if not self.out_stack:\n",
    "            while self.in_stack:\n",
    "                self.out_stack.append(self.in_stack.pop())\n",
    "        return self.out_stack[-1]\n",
    "\n",
    "    def empty(self) -> bool:\n",
    "        return not self.in_stack and not self.out_stack"
   ]
  },
  {
   "cell_type": "markdown",
   "id": "ad0df321",
   "metadata": {},
   "source": [
    "# 3. 연습문제 풀이"
   ]
  },
  {
   "cell_type": "markdown",
   "id": "e8eaa723",
   "metadata": {},
   "source": [
    "## 연습문제 01 - 리스트 반대 방향 큐"
   ]
  },
  {
   "cell_type": "code",
   "execution_count": null,
   "id": "fb5100ce",
   "metadata": {},
   "outputs": [],
   "source": [
    "class ReverseListQueue:\n",
    "    def __init__(self):\n",
    "        self.__queue = []\n",
    "\n",
    "    def enqueue(self, x):\n",
    "        self.__queue.insert(0, x)  # 앞에 삽입\n",
    "\n",
    "    def dequeue(self):\n",
    "        return self.__queue.pop()  # 뒤에서 제거\n"
   ]
  },
  {
   "cell_type": "markdown",
   "id": "21996169",
   "metadata": {},
   "source": [
    "## 연습문제 02 - 큐로 회문 검사"
   ]
  },
  {
   "cell_type": "code",
   "execution_count": null,
   "id": "f2879253",
   "metadata": {},
   "outputs": [],
   "source": [
    "from collections import deque\n",
    "\n",
    "def is_palindrome(s):\n",
    "    q = deque(s)\n",
    "    while len(q) > 1:\n",
    "        if q.popleft() != q.pop():\n",
    "            return False\n",
    "    return True\n",
    "\n",
    "# 테스트 예시\n",
    "print(is_palindrome(\"abba\"))  # True\n",
    "print(is_palindrome(\"hello\"))  # False"
   ]
  },
  {
   "cell_type": "markdown",
   "id": "2839f98e",
   "metadata": {},
   "source": [
    "## 연습문제 03 - LinkedQueue 깊은 복사"
   ]
  },
  {
   "cell_type": "code",
   "execution_count": null,
   "id": "8dcaeac9",
   "metadata": {},
   "outputs": [],
   "source": [
    "class Node:\n",
    "    def __init__(self, item, link=None):\n",
    "        self.item = item\n",
    "        self.link = link\n",
    "\n",
    "class LinkedQueue:\n",
    "    def __init__(self):\n",
    "        self.front = self.rear = None\n",
    "    def isEmpty(self):\n",
    "        return self.front is None\n",
    "    def enqueue(self, item):\n",
    "        new_node = Node(item)\n",
    "        if self.isEmpty():\n",
    "            self.front = self.rear = new_node\n",
    "        else:\n",
    "            self.rear.link = new_node\n",
    "            self.rear = new_node\n",
    "    def dequeue(self):\n",
    "        if self.isEmpty(): return None\n",
    "        item = self.front.item\n",
    "        self.front = self.front.link\n",
    "        return item\n",
    "def copyLinkedQueue(src):\n",
    "    q = LinkedQueue()\n",
    "    curr = src.front\n",
    "    while curr:\n",
    "        q.enqueue(curr.item)\n",
    "        curr = curr.link\n",
    "    return q"
   ]
  },
  {
   "cell_type": "markdown",
   "id": "5398aa0c",
   "metadata": {},
   "source": [
    "## 연습문제 04 - 큐 2개로 스택 구현"
   ]
  },
  {
   "cell_type": "code",
   "execution_count": null,
   "id": "62e3a989",
   "metadata": {},
   "outputs": [],
   "source": [
    "from collections import deque\n",
    "\n",
    "class StackUsingQueues:\n",
    "    def __init__(self):\n",
    "        self.q1 = deque()\n",
    "        self.q2 = deque()\n",
    "\n",
    "    def push(self, x):\n",
    "        self.q2.append(x)\n",
    "        while self.q1:\n",
    "            self.q2.append(self.q1.popleft())\n",
    "        self.q1, self.q2 = self.q2, self.q1\n",
    "\n",
    "    def pop(self):\n",
    "        return self.q1.popleft()"
   ]
  },
  {
   "cell_type": "markdown",
   "id": "ae4d5bfc",
   "metadata": {},
   "source": [
    "## 연습문제 05 - 스택 2개로 큐 구현"
   ]
  },
  {
   "cell_type": "code",
   "execution_count": null,
   "id": "b4d08aab",
   "metadata": {},
   "outputs": [],
   "source": [
    "class QueueUsingStacks:\n",
    "    def __init__(self):\n",
    "        self.in_stack = []\n",
    "        self.out_stack = []\n",
    "\n",
    "    def enqueue(self, x):\n",
    "        self.in_stack.append(x)\n",
    "\n",
    "    def dequeue(self):\n",
    "        if not self.out_stack:\n",
    "            while self.in_stack:\n",
    "                self.out_stack.append(self.in_stack.pop())\n",
    "        return self.out_stack.pop()"
   ]
  },
  {
   "cell_type": "markdown",
   "id": "ec012cd4",
   "metadata": {},
   "source": [
    "## 연습문제 06 - 수행 시간 분석"
   ]
  },
  {
   "cell_type": "code",
   "execution_count": null,
   "id": "1e303054",
   "metadata": {},
   "outputs": [],
   "source": [
    "# enqueue: O(1), dequeue: O(1) if using linked list or deque\n",
    "# worst case for list: dequeue = O(n) (pop(0)), append = O(1)"
   ]
  },
  {
   "cell_type": "markdown",
   "id": "f5fe946a",
   "metadata": {},
   "source": [
    "## 연습문제 07 - LinkedListBasic 사용 시 시간 복잡도"
   ]
  },
  {
   "cell_type": "code",
   "execution_count": null,
   "id": "cd0eeac3",
   "metadata": {},
   "outputs": [],
   "source": [
    "# 원형 연결리스트가 아니면 dequeue는 O(1), enqueue도 O(1)\n",
    "# 양쪽 끝에서 삽입/삭제 모두 가능한 구조로 구현하면 양쪽 모두 효율적"
   ]
  },
  {
   "cell_type": "markdown",
   "id": "e693bc5f",
   "metadata": {},
   "source": [
    "## 연습문제 08 - ListQueue를 Deque로 바꾸기"
   ]
  },
  {
   "cell_type": "code",
   "execution_count": null,
   "id": "bc8a54f4",
   "metadata": {},
   "outputs": [],
   "source": [
    "from collections import deque\n",
    "\n",
    "class DequeQueue:\n",
    "    def __init__(self):\n",
    "        self.queue = deque()\n",
    "    def enqueue(self, x):\n",
    "        self.queue.append(x)\n",
    "    def dequeue(self):\n",
    "        return self.queue.popleft()\n",
    "    def addFront(self, x):\n",
    "        self.queue.appendleft(x)\n",
    "    def deleteLast(self):\n",
    "        return self.queue.pop()"
   ]
  }
 ],
 "metadata": {},
 "nbformat": 4,
 "nbformat_minor": 5
}
